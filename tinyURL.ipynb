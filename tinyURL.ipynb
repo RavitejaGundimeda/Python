{
  "nbformat": 4,
  "nbformat_minor": 0,
  "metadata": {
    "colab": {
      "name": " tinyURL.ipynb",
      "provenance": [],
      "include_colab_link": true
    },
    "kernelspec": {
      "name": "python3",
      "display_name": "Python 3"
    },
    "language_info": {
      "name": "python"
    }
  },
  "cells": [
    {
      "cell_type": "markdown",
      "metadata": {
        "id": "view-in-github",
        "colab_type": "text"
      },
      "source": [
        "<a href=\"https://colab.research.google.com/github/RavitejaGundimeda/Python/blob/main/tinyURL.ipynb\" target=\"_parent\"><img src=\"https://colab.research.google.com/assets/colab-badge.svg\" alt=\"Open In Colab\"/></a>"
      ]
    },
    {
      "cell_type": "markdown",
      "source": [
        "### Code for tinyURL generation"
      ],
      "metadata": {
        "id": "BuiPLzCdhHeB"
      }
    },
    {
      "cell_type": "code",
      "execution_count": null,
      "metadata": {
        "colab": {
          "base_uri": "https://localhost:8080/"
        },
        "id": "KwShel2AaiWx",
        "outputId": "67bd5db8-3335-4111-8e2f-58dbc8d274b7"
      },
      "outputs": [
        {
          "output_type": "stream",
          "name": "stdout",
          "text": [
            "random length is  9\n",
            "lower case characters are abcdefghijklmnopqrstuvwxyz\n",
            "shortURL string is  fwusiogud\n",
            "https://www.shortURL.com/fwusiogud\n"
          ]
        }
      ],
      "source": [
        "#reference - https://www.appliedroots.com/course/8/applied-coding-track\n",
        "\n",
        "import string\n",
        "import random\n",
        "\n",
        "d ={}\n",
        "\n",
        "#this function returns a tinyURL\n",
        "def tinyURL(longURL):\n",
        "  #generating a random tinyURL with a length between 5 and 10 \n",
        "  length = random.randint(5,10)\n",
        "  print('random length is ',length)\n",
        "  #getting all the characters\n",
        "  chars = string.ascii_lowercase\n",
        "  print('lower case characters are', chars)\n",
        "  #generating the short URL\n",
        "  shortURL = ''.join(random.choice(chars) for i in range(length))\n",
        "  print('shortURL string is ',shortURL)\n",
        "  #Handling the case of duplicate short URL\n",
        "  if shortURL in d:\n",
        "    tinyURL(longURL)\n",
        "  else:\n",
        "    d[shortURL] = longURL\n",
        "\n",
        "  link = \"https://www.shortURL.com/\"+shortURL\n",
        "  return link\n",
        "\n",
        "resLink = tinyURL(\"https://raviteja-gundimeda.medium.com/\")\n",
        "print(resLink)"
      ]
    },
    {
      "cell_type": "markdown",
      "source": [
        "#Object Oriented Approach of tinyURL"
      ],
      "metadata": {
        "id": "Tfxev0MgjgCF"
      }
    },
    {
      "cell_type": "code",
      "source": [
        "#reference - https://www.appliedroots.com/course/8/applied-coding-track\n",
        "\n",
        "import string\n",
        "import random\n",
        "\n",
        "class tinyURL:\n",
        "  def __init__(self):\n",
        "    self.d = dict()\n",
        "\n",
        "  #this function returns a tinyURL\n",
        "  def tinyUrlLen(self,longURL): #first parameter always says about the object that is calling the function\n",
        "    #generating a random tinyURL with a length between 5 and 10 \n",
        "    length = random.randint(5,10)\n",
        "    print('random length is ',length)\n",
        "    #getting all the characters\n",
        "    chars = string.ascii_lowercase + string.digits\n",
        "    #print('lower case characters are', chars)\n",
        "    #generating the short URL\n",
        "    shortURL = ''.join(random.choice(chars) for i in range(length))\n",
        "    print('shortURL string is ',shortURL)\n",
        "    #Handling the case of duplicate short URL\n",
        "    if shortURL in self.d:\n",
        "      tinyURL(longURL)\n",
        "    else:\n",
        "      self.d[shortURL] = longURL\n",
        "\n",
        "    link = \"https://www.shortURL.com/\"+shortURL\n",
        "    return link\n",
        "\n",
        "  def longUrlLen(self,shortURL ):\n",
        "    r = shortURL[25:]\n",
        "    if r in self.d:\n",
        "      return self.d[r]\n",
        "    else:\n",
        "      return None\n",
        "    \n",
        "\n",
        "\n",
        "u = tinyURL()\n",
        "\n",
        "\n",
        "print(u.tinyUrlLen(\"https://raviteja-gundimeda.medium.com/\"))\n"
      ],
      "metadata": {
        "id": "vr0182iUjfLH",
        "outputId": "c8ddf5ea-fcc3-4261-8a68-3e950681397c",
        "colab": {
          "base_uri": "https://localhost:8080/"
        }
      },
      "execution_count": 1,
      "outputs": [
        {
          "output_type": "stream",
          "name": "stdout",
          "text": [
            "random length is  10\n",
            "shortURL string is  rmlju6gl44\n",
            "https://www.shortURL.com/rmlju6gl44\n"
          ]
        }
      ]
    },
    {
      "cell_type": "code",
      "source": [
        "#change the below url according to above output\n",
        "print(\"long Url is \",u.longUrlLen(\"https://www.shortURL.com/rmlju6gl44\"))"
      ],
      "metadata": {
        "id": "_Hb1ZMikjuHW",
        "outputId": "d75ae7d7-b51c-4237-ab27-078330ab9bf8",
        "colab": {
          "base_uri": "https://localhost:8080/"
        }
      },
      "execution_count": 2,
      "outputs": [
        {
          "output_type": "stream",
          "name": "stdout",
          "text": [
            "long Url is  https://raviteja-gundimeda.medium.com/\n"
          ]
        }
      ]
    }
  ]
}